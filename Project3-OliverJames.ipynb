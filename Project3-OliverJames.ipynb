{
 "cells": [
  {
   "cell_type": "code",
   "execution_count": 1,
   "id": "a76b80b2-fbbc-4d24-904d-1225febe6c34",
   "metadata": {},
   "outputs": [
    {
     "name": "stdout",
     "output_type": "stream",
     "text": [
      "test\n"
     ]
    }
   ],
   "source": [
    "print('test')"
   ]
  },
  {
   "cell_type": "code",
   "execution_count": 19,
   "id": "bcff6518-367d-43d5-bb55-0c5b2f698b16",
   "metadata": {},
   "outputs": [
    {
     "name": "stdout",
     "output_type": "stream",
     "text": [
      "top 5 words and frequency (see below): \n",
      "\n",
      " [('the', 2594), ('and', 1635), ('a', 1468), ('i', 1393), ('of', 1242)]\n",
      "\n",
      "Number of words in the book total (with repeat):  53020\n",
      "Number of unique words in the book: 7169\n"
     ]
    },
    {
     "data": {
      "image/png": "[encoded data removed]",
      "text/plain": [
       "<Figure size 640x480 with 1 Axes>"
      ]
     },
     "metadata": {},
     "output_type": "display_data"
    }
   ],
   "source": [
    "#Oliver James @02101322\n",
    "#below are all my imports for the project\n",
    "import string\n",
    "import re\n",
    "from collections import Counter\n",
    "from matplotlib import pyplot as plt\n",
    "import numpy as np\n",
    "\n",
    "#read file, remove special characters and punctuation and replace with white space\n",
    "string = open('gatsby.txt',encoding=\"utf8\").read()\n",
    "new_str = re.sub('[^a-zA-Z0-9\\n\\.]', ' ', string)\n",
    "open('b.txt', 'w',).write(new_str)\n",
    "\n",
    "#create counter variable, will be used for TOTAL word count, NOT unique word count\n",
    "num_words = 0\n",
    "\n",
    "with open(r'b.txt','r') as file:\n",
    " \n",
    "    # Reading the content of the file\n",
    "    # using the read() function and storing\n",
    "    # them in a new variable\n",
    "    data = file.read().lower() #This part makes all the words lowercase, this lower will be for the counter portion and data visulization\n",
    " \n",
    "    # Splitting the data into separate lines\n",
    "    # using the split() function\n",
    "    lines = data.split()\n",
    "\n",
    "    Counter = Counter(lines)  #The counter variable is what I'm going to use to find most unique words\n",
    "    most_occur = Counter.most_common(5) #Can I do top 5 instead of top 30? to make it cleaner?\n",
    "    print('top 5 words and frequency (see below): \\n\\n',most_occur)\n",
    "    print()\n",
    "    #put all words into a set, this will allow us to see all unique words\n",
    "    unique = set(lines)\n",
    " \n",
    "    # Iterating over every word in\n",
    "    # lines\n",
    "    for word in lines:\n",
    " \n",
    "        # checking if the word is numeric or not\n",
    "        if not word.isnumeric():\n",
    "                num_words +=1\n",
    "    print('Number of words in the book total (with repeat): ',num_words)\n",
    "    #count variable used to count number of unique words\n",
    "    count = 0\n",
    "    for i in unique:\n",
    "        i = i.lower()\n",
    "        #print(i)\n",
    "        count += 1\n",
    "    print ('Number of unique words in the book:' , count)\n",
    "    # Creating plot    \n",
    "    words = [word for word, _ in most_occur]\n",
    "    counts = [counts for _, counts in most_occur]\n",
    "\n",
    "    plt.bar(words, counts)\n",
    "    plt.title(\"5 most frequent words in book\")\n",
    "    plt.ylabel(\"Frequency\")\n",
    "    plt.xlabel(\"Words\")\n",
    "    plt.show()"
   ]
  },
  {
   "cell_type": "code",
   "execution_count": null,
   "id": "91437610-edd4-453e-902c-38dd3ef746a5",
   "metadata": {},
   "outputs": [],
   "source": []
  }
 ],
 "metadata": {
  "kernelspec": {
   "display_name": "Python 3 (ipykernel)",
   "language": "python",
   "name": "python3"
  },
  "language_info": {
   "codemirror_mode": {
    "name": "ipython",
    "version": 3
   },
   "file_extension": ".py",
   "mimetype": "text/x-python",
   "name": "python",
   "nbconvert_exporter": "python",
   "pygments_lexer": "ipython3",
   "version": "3.11.7"
  }
 },
 "nbformat": 4,
 "nbformat_minor": 5
}
